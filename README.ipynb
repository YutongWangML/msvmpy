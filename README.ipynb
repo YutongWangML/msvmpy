{
 "cells": [
  {
   "cell_type": "markdown",
   "id": "9ec18a37",
   "metadata": {},
   "source": [
    "# msvmpy\n",
    "\n",
    "Multiclass SVMs in python\n",
    "\n",
    "## Offerings\n",
    "\n",
    "`hard_margin.py` - hard margin multiclass SVM solved using the QP solver `CVXOPT`"
   ]
  },
  {
   "cell_type": "code",
   "execution_count": 1,
   "id": "dd934632",
   "metadata": {},
   "outputs": [
    {
     "name": "stdout",
     "output_type": "stream",
     "text": [
      "Defaulting to user installation because normal site-packages is not writeable\n",
      "Obtaining file:///home/yutongw/projects/msvmpy\n",
      "  Preparing metadata (setup.py) ... \u001b[?25ldone\n",
      "\u001b[?25hRequirement already satisfied: cvxopt in /home/yutongw/.local/lib/python3.10/site-packages (from msvmpy==0.1.0) (1.3.1)\n",
      "Requirement already satisfied: numpy in /sw/pkgs/arc/python3.10-anaconda/2023.03/lib/python3.10/site-packages (from msvmpy==0.1.0) (1.23.5)\n",
      "Installing collected packages: msvmpy\n",
      "  Attempting uninstall: msvmpy\n",
      "    Found existing installation: msvmpy 0.1.0\n",
      "    Uninstalling msvmpy-0.1.0:\n",
      "      Successfully uninstalled msvmpy-0.1.0\n",
      "  Running setup.py develop for msvmpy\n",
      "Successfully installed msvmpy\n"
     ]
    }
   ],
   "source": [
    "!pip install -e ."
   ]
  },
  {
   "cell_type": "markdown",
   "id": "ed4872c0",
   "metadata": {},
   "source": [
    "## Example with three classes"
   ]
  },
  {
   "cell_type": "code",
   "execution_count": 22,
   "id": "ec515a2d",
   "metadata": {},
   "outputs": [
    {
     "data": {
      "text/plain": [
       "<matplotlib.collections.PathCollection at 0x154f53818610>"
      ]
     },
     "execution_count": 22,
     "metadata": {},
     "output_type": "execute_result"
    },
    {
     "data": {
      "image/png": "[encoded data removed]",
      "text/plain": [
       "<Figure size 512x384 with 1 Axes>"
      ]
     },
     "metadata": {},
     "output_type": "display_data"
    }
   ],
   "source": [
    "import numpy as np\n",
    "import matplotlib.pyplot as plt\n",
    "plt.rcParams['figure.dpi'] = 80\n",
    "\n",
    "def make_dataset(num_samples, num_classes, num_features, random_seed = None):\n",
    "    if random_seed is not None:\n",
    "        np.random.seed(random_seed)\n",
    "    X = np.random.randn(num_samples,num_features)\n",
    "    Wstar = np.random.randn(num_features,num_classes)      # ground truth classifier\n",
    "    y = np.argmax(X@Wstar,axis=1)     # labels\n",
    "    return X, y\n",
    "\n",
    "num_samples = 20\n",
    "num_classes = 3\n",
    "num_features = 2\n",
    "X,y = make_dataset(num_samples,num_classes,num_features,42)\n",
    "plt.scatter(X[:,0],X[:,1],c = y)"
   ]
  },
  {
   "cell_type": "markdown",
   "id": "97d16dfd",
   "metadata": {},
   "source": [
    "## One MSVM, two parametrization\n",
    "\n",
    "We have the class score-based parametrization and the relative margin-based parametrization"
   ]
  },
  {
   "cell_type": "code",
   "execution_count": 33,
   "id": "fc4d1beb",
   "metadata": {},
   "outputs": [
    {
     "name": "stdout",
     "output_type": "stream",
     "text": [
      "class-score:  0.002750396728515625\n",
      "relative margin:  0.0020530223846435547\n"
     ]
    }
   ],
   "source": [
    "import msvmpy.hard_margin as hard_margin\n",
    "import time\n",
    "\n",
    "start_time = time.time()\n",
    "Wscore,_ = hard_margin.FnormA_du_score(X,y,num_classes)\n",
    "end_time = time.time()\n",
    "execution_time = end_time - start_time\n",
    "print(\"class-score: \", execution_time)\n",
    "\n",
    "start_time = time.time()\n",
    "Wrmarg,dual_vars = hard_margin.FnormA_du_rmarg(X,y,num_classes)\n",
    "end_time = time.time()\n",
    "execution_time = end_time - start_time\n",
    "print(\"relative margin: \", execution_time)"
   ]
  },
  {
   "cell_type": "code",
   "execution_count": null,
   "id": "58c34620",
   "metadata": {},
   "outputs": [],
   "source": []
  },
  {
   "cell_type": "code",
   "execution_count": null,
   "id": "645a32c6",
   "metadata": {},
   "outputs": [],
   "source": []
  },
  {
   "cell_type": "code",
   "execution_count": null,
   "id": "5616da71",
   "metadata": {},
   "outputs": [],
   "source": []
  },
  {
   "cell_type": "code",
   "execution_count": null,
   "id": "88533f6c",
   "metadata": {},
   "outputs": [],
   "source": []
  },
  {
   "cell_type": "code",
   "execution_count": null,
   "id": "127a5fa6",
   "metadata": {},
   "outputs": [],
   "source": []
  },
  {
   "cell_type": "code",
   "execution_count": null,
   "id": "aa131ff8",
   "metadata": {},
   "outputs": [],
   "source": []
  },
  {
   "cell_type": "code",
   "execution_count": null,
   "id": "d752562c",
   "metadata": {},
   "outputs": [],
   "source": []
  },
  {
   "cell_type": "code",
   "execution_count": null,
   "id": "63a34fd8",
   "metadata": {},
   "outputs": [],
   "source": []
  },
  {
   "cell_type": "code",
   "execution_count": null,
   "id": "620364e0",
   "metadata": {},
   "outputs": [],
   "source": []
  },
  {
   "cell_type": "code",
   "execution_count": null,
   "id": "8a018739",
   "metadata": {},
   "outputs": [],
   "source": []
  },
  {
   "cell_type": "code",
   "execution_count": null,
   "id": "343ed7c2",
   "metadata": {},
   "outputs": [],
   "source": []
  },
  {
   "cell_type": "markdown",
   "id": "17c8bc3e",
   "metadata": {},
   "source": [
    "## Verify that the solutions are the same"
   ]
  },
  {
   "cell_type": "code",
   "execution_count": 16,
   "id": "df8d2772",
   "metadata": {},
   "outputs": [
    {
     "data": {
      "text/plain": [
       "3.42215923821673e-13"
      ]
     },
     "execution_count": 16,
     "metadata": {},
     "output_type": "execute_result"
    }
   ],
   "source": [
    "np.linalg.norm(Wscore - Wrmarg)"
   ]
  },
  {
   "cell_type": "code",
   "execution_count": 17,
   "id": "ad9e1f20",
   "metadata": {},
   "outputs": [],
   "source": [
    "def plot_line(w,b=0,**kwargs):\n",
    "    # plot the set of points v = [x,y] in R^2 such that\n",
    "    # w@v = b\n",
    "    # w[0]*x + w[1]*y= b\n",
    "    # y = x*(-w[0]/w[1])+b/w[1]\n",
    "    ax = plt.gca()\n",
    "    xlims = ax.get_xlim()\n",
    "    ylims = ax.get_ylim()\n",
    "    xs = np.linspace(xlims[0],xlims[1])\n",
    "    ys = -xs*(w[0]/w[1])+b/w[1]\n",
    "    ax.plot(xs,ys,**kwargs)\n",
    "    ax.set_xlim(xlims)\n",
    "    ax.set_ylim(ylims)\n",
    "    return None\n",
    "\n",
    "def plot_bdry(w):\n",
    "    plot_line(w[:,0] - w[:,1], linestyle=':', c= 'k')\n",
    "    plot_line(w[:,0] - w[:,2], linestyle=':', c= 'k')\n",
    "    plot_line(w[:,1] - w[:,2], linestyle=':', c= 'k')\n",
    "    return None"
   ]
  },
  {
   "cell_type": "markdown",
   "id": "4b449966",
   "metadata": {},
   "source": [
    "### Plot the dual variables"
   ]
  },
  {
   "cell_type": "code",
   "execution_count": 18,
   "id": "afab8d75",
   "metadata": {},
   "outputs": [
    {
     "name": "stderr",
     "output_type": "stream",
     "text": [
      "/sw/pkgs/arc/python3.10-anaconda/2023.03/lib/python3.10/site-packages/matplotlib/collections.py:963: RuntimeWarning: invalid value encountered in sqrt\n",
      "  scale = np.sqrt(self._sizes) * dpi / 72.0 * self._factor\n"
     ]
    },
    {
     "data": {
      "image/png": "[encoded data removed]",
      "text/plain": [
       "<Figure size 512x384 with 1 Axes>"
      ]
     },
     "metadata": {},
     "output_type": "display_data"
    }
   ],
   "source": [
    "plt.scatter(X[:,0],X[:,1],c = y,marker='x')\n",
    "plt.scatter(X[:,0],X[:,1],c = y, s = 10*np.sum(dual_vars,axis=1))\n",
    "plot_bdry(Wrmarg)"
   ]
  },
  {
   "cell_type": "markdown",
   "id": "12241db1",
   "metadata": {},
   "source": [
    "## Example with two classes"
   ]
  },
  {
   "cell_type": "code",
   "execution_count": 19,
   "id": "7ec99f00",
   "metadata": {},
   "outputs": [
    {
     "data": {
      "text/plain": [
       "<matplotlib.collections.PathCollection at 0x154f53acb850>"
      ]
     },
     "execution_count": 19,
     "metadata": {},
     "output_type": "execute_result"
    },
    {
     "data": {
      "image/png": "[encoded data removed]",
      "text/plain": [
       "<Figure size 512x384 with 1 Axes>"
      ]
     },
     "metadata": {},
     "output_type": "display_data"
    }
   ],
   "source": [
    "\n",
    "num_samples = 20\n",
    "num_classes = 2\n",
    "num_features = 2\n",
    "X,y = make_dataset(num_samples,num_classes,num_features,42)\n",
    "plt.scatter(X[:,0],X[:,1],c = y)"
   ]
  },
  {
   "cell_type": "code",
   "execution_count": 20,
   "id": "c850a896",
   "metadata": {},
   "outputs": [
    {
     "name": "stdout",
     "output_type": "stream",
     "text": [
      "class-score:  0.001935720443725586\n",
      "relative margin:  0.0016427040100097656\n"
     ]
    }
   ],
   "source": [
    "import msvmpy.hard_margin as hard_margin\n",
    "import time\n",
    "\n",
    "start_time = time.time()\n",
    "Wscore,_ = hard_margin.FnormA_du_score(X,y,num_classes)\n",
    "end_time = time.time()\n",
    "execution_time = end_time - start_time\n",
    "print(\"class-score: \", execution_time)\n",
    "\n",
    "start_time = time.time()\n",
    "Wrmarg,dual_vars = hard_margin.FnormA_du_rmarg(X,y,num_classes)\n",
    "end_time = time.time()\n",
    "execution_time = end_time - start_time\n",
    "print(\"relative margin: \", execution_time)"
   ]
  },
  {
   "cell_type": "code",
   "execution_count": 21,
   "id": "0b2e3038",
   "metadata": {},
   "outputs": [
    {
     "data": {
      "image/png": "[encoded data removed]",
      "text/plain": [
       "<Figure size 512x384 with 1 Axes>"
      ]
     },
     "metadata": {},
     "output_type": "display_data"
    }
   ],
   "source": [
    "plt.scatter(X[:,0],X[:,1],c = y,marker='x')\n",
    "plt.scatter(X[:,0],X[:,1],c = y, s = 100*np.sum(dual_vars,axis=1))\n",
    "plot_line(Wrmarg[:,1],linestyle=\":\", c='k')"
   ]
  },
  {
   "cell_type": "code",
   "execution_count": null,
   "id": "dcd2a3eb",
   "metadata": {},
   "outputs": [],
   "source": []
  }
 ],
 "metadata": {
  "kernelspec": {
   "display_name": "Python 3 (ipykernel)",
   "language": "python",
   "name": "python3"
  },
  "language_info": {
   "codemirror_mode": {
    "name": "ipython",
    "version": 3
   },
   "file_extension": ".py",
   "mimetype": "text/x-python",
   "name": "python",
   "nbconvert_exporter": "python",
   "pygments_lexer": "ipython3",
   "version": "3.10.9"
  }
 },
 "nbformat": 4,
 "nbformat_minor": 5
}
