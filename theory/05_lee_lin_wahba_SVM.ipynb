{
 "cells": [
  {
   "cell_type": "markdown",
   "id": "1a2cc19c",
   "metadata": {},
   "source": [
    "The Lee-Lin-Wabha (LLW) hinge loss is the function given by\n",
    "\n",
    "$$\n",
    "L(y,v) = \\sum_{j \\in [k] : j \\ne y} \\mathtt{hinge}(1 + v_j)\n",
    "$$\n",
    "The domain of $v$ must be restricted to $\\{ v \\in \\mathbb{R}^k: \\sum_{j \\in [k]} v_j = 0 \\}$ in order for $L$ to be classification-calibrated."
   ]
  },
  {
   "cell_type": "markdown",
   "id": "4623f4b2",
   "metadata": {},
   "source": [
    "Thus, we have\n",
    "\n",
    "\\begin{align}\n",
    "L(y,v) &= \\sum_{j \\in [k] : j \\ne y} \\mathtt{hinge}(1 + v_j)\n",
    "\\\\\n",
    "&= \\sum_{j \\in [k] : j \\ne y} \\mathtt{hinge}(1 + v_j - \\frac{1}{k} \\sum_{\\ell \\in [k]} v_\\ell)\n",
    "\\\\\n",
    "&= \\sum_{j \\in [k] : j \\ne y} \\mathtt{hinge}(1 + \\frac{1}{k} \\sum_{\\ell \\in [k]} v_j - v_\\ell)\n",
    "\\\\\n",
    "&= \\sum_{j \\in [k] : j \\ne y} \\mathtt{hinge}(1 + k^{-1}\\mathbf{1}^\\top \\Pi_j  z) \n",
    "\\end{align}"
   ]
  },
  {
   "cell_type": "markdown",
   "id": "558c0018",
   "metadata": {},
   "source": [
    "$$\n",
    "\\min_{W} \\frac{1}{2} \\| W\\|_F^2 +  C \\sum_{i=1}^nL(y_i, Wx_i)\n",
    "$$"
   ]
  },
  {
   "cell_type": "markdown",
   "id": "b0769e04",
   "metadata": {},
   "source": [
    "\n",
    "$$\n",
    "\\min_{U} \\frac{1}{2} \\| UR^\\dagger\\|_F^2 +  C \\sum_{i=1}^nL(y_i, Ux_i)\n",
    "$$"
   ]
  },
  {
   "cell_type": "code",
   "execution_count": null,
   "id": "619bcc72",
   "metadata": {},
   "outputs": [],
   "source": []
  }
 ],
 "metadata": {
  "kernelspec": {
   "display_name": "Python 3 (ipykernel)",
   "language": "python",
   "name": "python3"
  },
  "language_info": {
   "codemirror_mode": {
    "name": "ipython",
    "version": 3
   },
   "file_extension": ".py",
   "mimetype": "text/x-python",
   "name": "python",
   "nbconvert_exporter": "python",
   "pygments_lexer": "ipython3",
   "version": "3.10.9"
  }
 },
 "nbformat": 4,
 "nbformat_minor": 5
}
