{
 "cells": [
  {
   "cell_type": "markdown",
   "id": "4c8824ed",
   "metadata": {},
   "source": [
    "In this document, we compute the matrix\n",
    "\n",
    "$$\n",
    "\\Pi_{y} \\Theta \\Pi_{y'}^\\top\n",
    "$$\n",
    "\n",
    "where \n",
    "$\\Pi_y$ is the *matrix label code*,\n",
    "and\n",
    "$\\Theta$ is the *\"identity plus all-ones\"* matrix.\n"
   ]
  },
  {
   "cell_type": "code",
   "execution_count": 22,
   "id": "61660a63",
   "metadata": {},
   "outputs": [],
   "source": [
    "import numpy as np\n",
    "k = 4\n",
    "PI = []\n",
    "\n",
    "for y in range(k-1):\n",
    "    # PI_y is defined as\n",
    "    # identity matrix except the y-th column is replaced by negative of \"all-ones\" vector\n",
    "    PI_y = np.eye(k-1)\n",
    "    PI_y[:,y] = -1 \n",
    "    PI.append(PI_y)\n",
    "    \n",
    "PI.append(np.eye(k-1))\n",
    "\n",
    "Theta = np.eye(k-1) + 1"
   ]
  },
  {
   "cell_type": "markdown",
   "id": "d69d814a",
   "metadata": {},
   "source": [
    "**Proposition**.\n",
    "Let $y,y' \\in [k]$. To compute $\\Pi_{y} \\Theta \\Pi_{y'}^\\top$, there are three cases:\n",
    "\n",
    "\n",
    "*Case 1*. If $y = y'$, then\n",
    "$$\n",
    "\\Pi_{y} \\Theta \\Pi_{y'}^\\top = \\Theta\n",
    "$$\n",
    "\n",
    "*Case 2a*. If we are not in *Case 1* and $k = y'$. Then\n",
    "$$\n",
    "[\\Pi_{y} \\Theta \\Pi_{k}^\\top]_{ij}\n",
    "=\n",
    "\\begin{cases}\n",
    "1 & i =j \\ne y \\\\\n",
    "-2 & i =j = y \\\\\n",
    "-1 & i = y \\mbox{ xor } j = y\\\\\n",
    "0 & \\mbox{otherwise}\n",
    "\\end{cases}\n",
    "$$\n",
    "\n",
    "*Case 2b*. If we are not in *Case 1 \\& 2* and $k = y$. Then\n",
    "$$\n",
    "[\\Pi_{k} \\Theta \\Pi_{y'}^\\top]_{ij}\n",
    "=\n",
    "\\begin{cases}\n",
    "1 & i =j \\ne y' \\\\\n",
    "-2 & i =j = y' \\\\\n",
    "-1 & i = y' \\mbox{ xor } j = y'\\\\\n",
    "0 & \\mbox{otherwise}\n",
    "\\end{cases}\n",
    "$$\n",
    "\n",
    "*Case 3*. If we are not in *Case 1,2a nor 2b*. Then\n",
    "$$\n",
    "[\\Pi_{y} \\Theta \\Pi_{y'}^\\top]_{ij}\n",
    "=\n",
    "\\begin{cases}\n",
    "-2 & i = y', j = y\\\\\n",
    "-1 & i = y', j \\ne y\\\\\n",
    "-1 & i \\ne y', j = y\\\\\n",
    "1 & i = y, j = y'\\\\\n",
    "0 & \\mbox{otherwise}\n",
    "\\end{cases}\n",
    "$$"
   ]
  },
  {
   "cell_type": "code",
   "execution_count": 28,
   "id": "f7ad2c2f",
   "metadata": {},
   "outputs": [],
   "source": [
    "def label_kernel(y1,y2):\n",
    "    M = np.eye(k-1)\n",
    "    if y1 == y2: # case 1\n",
    "        return M+1\n",
    "    \n",
    "    if y1 == k-1 or y2 == k-1: # case 2\n",
    "        y = min(y1,y2)\n",
    "        M[:,y] = -1\n",
    "        M[y,:] = -1\n",
    "        M[y,y] = -2\n",
    "\n",
    "    if y1 < k-1 and y2 < k-1:\n",
    "        M[:,y1] = -1\n",
    "        M[y2,:] = -1\n",
    "        M[y2,y1] = -2\n",
    "        M[y1,y2] = 1\n",
    "        \n",
    "    return M"
   ]
  },
  {
   "cell_type": "code",
   "execution_count": 29,
   "id": "c3751fb6",
   "metadata": {},
   "outputs": [],
   "source": [
    "for y1 in range(k):\n",
    "    for y2 in range(k):\n",
    "#     y1 = np.random.randint(k)\n",
    "#     y2 = np.random.randint(k)\n",
    "        A = PI[y1]@Theta@PI[y2].T\n",
    "        B = label_kernel(y1,y2)\n",
    "        diff = A-B\n",
    "        if np.max(diff.flatten()) > 0.5:\n",
    "            print(\"error found:\")\n",
    "            print((y1,y2))\n",
    "            print(A)\n",
    "            print(B)"
   ]
  },
  {
   "cell_type": "code",
   "execution_count": null,
   "id": "a9744f5c",
   "metadata": {},
   "outputs": [],
   "source": []
  }
 ],
 "metadata": {
  "kernelspec": {
   "display_name": "Python 3 (ipykernel)",
   "language": "python",
   "name": "python3"
  },
  "language_info": {
   "codemirror_mode": {
    "name": "ipython",
    "version": 3
   },
   "file_extension": ".py",
   "mimetype": "text/x-python",
   "name": "python",
   "nbconvert_exporter": "python",
   "pygments_lexer": "ipython3",
   "version": "3.10.9"
  }
 },
 "nbformat": 4,
 "nbformat_minor": 5
}
