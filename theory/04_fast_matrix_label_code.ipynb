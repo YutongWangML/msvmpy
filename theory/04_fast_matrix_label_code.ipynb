{
 "cells": [
  {
   "cell_type": "markdown",
   "id": "5664d35a",
   "metadata": {},
   "source": [
    "We show how to compute $\\Pi_y z$, where $z \\in \\mathbb{R}^k$ without doing explicit matrix multiplication. Thus this is termed *fast matrix label code*.\n",
    "\n"
   ]
  },
  {
   "cell_type": "code",
   "execution_count": 154,
   "id": "7548053b",
   "metadata": {},
   "outputs": [],
   "source": [
    "import numpy as np\n",
    "k = 4\n",
    "n = 10\n",
    "PI = []\n",
    "\n",
    "for y in range(k-1):\n",
    "    # PI_y is defined as\n",
    "    # identity matrix except the y-th column is replaced by negative of \"all-ones\" vector\n",
    "    PI_y = np.eye(k-1)\n",
    "    PI_y[:,y] = -1 \n",
    "    PI.append(PI_y)\n",
    "    \n",
    "PI.append(np.eye(k-1))\n"
   ]
  },
  {
   "cell_type": "markdown",
   "id": "d583fa58",
   "metadata": {},
   "source": [
    "# Test quantities"
   ]
  },
  {
   "cell_type": "code",
   "execution_count": 155,
   "id": "2ce9aecd",
   "metadata": {},
   "outputs": [],
   "source": [
    "z = np.random.randn(n,k-1)\n",
    "y = np.random.randint(0,k,n)"
   ]
  },
  {
   "cell_type": "code",
   "execution_count": 156,
   "id": "6958cac3",
   "metadata": {},
   "outputs": [],
   "source": [
    "Y = np.eye(k)[y][:,:-1]\n",
    "C = np.sum(Y*z,axis=1).reshape(-1,1)\n",
    "D = np.sum(z,axis=1).reshape(-1,1)"
   ]
  },
  {
   "cell_type": "markdown",
   "id": "c92d7ea1",
   "metadata": {},
   "source": [
    "# Fast multiplication from the left"
   ]
  },
  {
   "cell_type": "code",
   "execution_count": 159,
   "id": "67c9bfdd",
   "metadata": {},
   "outputs": [
    {
     "data": {
      "text/plain": [
       "0.0"
      ]
     },
     "execution_count": 159,
     "metadata": {},
     "output_type": "execute_result"
    }
   ],
   "source": [
    "left_slow = np.vstack([PI[y[i]]@z[i,:] for i in range(len(y))])\n",
    "left_fast = z - C - Y*C\n",
    "np.linalg.norm(left_slow-left_fast)"
   ]
  },
  {
   "cell_type": "markdown",
   "id": "70f99a71",
   "metadata": {},
   "source": [
    "# Fast multiplication from the right"
   ]
  },
  {
   "cell_type": "code",
   "execution_count": 158,
   "id": "49908ff5",
   "metadata": {},
   "outputs": [
    {
     "data": {
      "text/plain": [
       "0.0"
      ]
     },
     "execution_count": 158,
     "metadata": {},
     "output_type": "execute_result"
    }
   ],
   "source": [
    "right_slow = np.vstack([z[i,:]@PI[y[i]] for i in range(n)])\n",
    "right_fast = z - Y*D - Y*C\n",
    "np.linalg.norm(right_slow - right_fast)"
   ]
  }
 ],
 "metadata": {
  "kernelspec": {
   "display_name": "Python 3 (ipykernel)",
   "language": "python",
   "name": "python3"
  },
  "language_info": {
   "codemirror_mode": {
    "name": "ipython",
    "version": 3
   },
   "file_extension": ".py",
   "mimetype": "text/x-python",
   "name": "python",
   "nbconvert_exporter": "python",
   "pygments_lexer": "ipython3",
   "version": "3.10.9"
  }
 },
 "nbformat": 4,
 "nbformat_minor": 5
}
