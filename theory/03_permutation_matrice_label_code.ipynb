{
 "cells": [
  {
   "cell_type": "code",
   "execution_count": 16,
   "id": "a1538198",
   "metadata": {},
   "outputs": [],
   "source": [
    "import numpy as np\n",
    "k = 5\n",
    "\n",
    "PI = []\n",
    "for y in range(k-1):\n",
    "    PIy = np.eye(k-1)\n",
    "    PIy[:,y] = -1\n",
    "    PI.append(PIy)\n",
    "PI.append(np.eye(k-1))\n",
    "PI\n",
    "\n",
    "S = []\n",
    "for y in range(k-1):\n",
    "    Sy = np.eye(k)\n",
    "    sig = list(range(k))\n",
    "    sig[y] = k-1\n",
    "    sig[k-1] = y # permutation that switches `y` with `k-1`\n",
    "    S.append(Sy[sig,:])\n",
    "\n",
    "R = np.hstack((- np.eye(k-1),  np.ones((k-1,1)) ))\n",
    "R\n",
    "\n",
    "Theta = np.eye(k-1)+1"
   ]
  },
  {
   "cell_type": "code",
   "execution_count": 17,
   "id": "9675b052",
   "metadata": {},
   "outputs": [
    {
     "data": {
      "text/plain": [
       "0.0"
      ]
     },
     "execution_count": 17,
     "metadata": {},
     "output_type": "execute_result"
    }
   ],
   "source": [
    "np.linalg.norm(R@S[1] - PI[1]@R)"
   ]
  },
  {
   "cell_type": "code",
   "execution_count": 18,
   "id": "4607c3b9",
   "metadata": {},
   "outputs": [
    {
     "name": "stdout",
     "output_type": "stream",
     "text": [
      "0.0\n",
      "0.0\n",
      "0.0\n",
      "0.0\n",
      "0.0\n"
     ]
    }
   ],
   "source": [
    "for y in range(k):\n",
    "    print(np.linalg.norm(R@S[1] - PI[1]@R))"
   ]
  }
 ],
 "metadata": {
  "kernelspec": {
   "display_name": "Python 3 (ipykernel)",
   "language": "python",
   "name": "python3"
  },
  "language_info": {
   "codemirror_mode": {
    "name": "ipython",
    "version": 3
   },
   "file_extension": ".py",
   "mimetype": "text/x-python",
   "name": "python",
   "nbconvert_exporter": "python",
   "pygments_lexer": "ipython3",
   "version": "3.10.9"
  }
 },
 "nbformat": 4,
 "nbformat_minor": 5
}
