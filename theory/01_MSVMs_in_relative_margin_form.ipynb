{
 "cells": [
  {
   "cell_type": "markdown",
   "id": "9867344d",
   "metadata": {},
   "source": [
    "Let $K_{ij} : = \\langle x_i, x_j\\rangle$.\n",
    "$$\n",
    "\\min_{\\beta_1,\\dots, \\beta_n \\in \\mathbb{R}^{k-1}}  \n",
    "\\quad  \n",
    "\\frac{1}{2} \n",
    "\\sum_{i,j \\in [n]}K_{ij} \\beta_i^\\top \n",
    "\\Pi_{y_i} \\Theta \\Pi_{y_j}^\\top \n",
    "\\beta_j\n",
    "-\n",
    "\\sum_{\\ell \\in [n]} \\mathbf{1}^\\top \\beta_\\ell\n",
    "$$"
   ]
  },
  {
   "cell_type": "markdown",
   "id": "f02b91ef",
   "metadata": {},
   "source": [
    "For Crammer-Singer SVM:\n",
    "$$\n",
    "0 \\le \\sum_{j \\in [k-1]}\\beta_{ij} \\le C, \\quad \\forall i \\in [n]\n",
    "$$\n",
    "\n",
    "For Weston-Watkins SVM:\n",
    "$$\n",
    "0 \\le \\max_{j \\in [k-1]}\\beta_{ij} \\le C, \\quad \\forall i \\in [n]\n",
    "$$\n",
    "\n",
    "---"
   ]
  },
  {
   "cell_type": "markdown",
   "id": "5ff20cf9",
   "metadata": {},
   "source": [
    "We call  $ \\Pi_{y_i} \\Theta \\Pi_{y_j}^\\top $ the \"label kernel\".\n",
    "\n",
    "# Computing the \"label kernel\"\n",
    "We note that $M_{y_i,y_j} := \\Pi_{y_i} \\Theta \\Pi_{y_j}^\\top$ is a $(k-1)\\times(k-1)$ matrix that depends only on $k$, $y_i$ and $y_j$. \n",
    "The matrix $M_{y_i,y_j}$ can be computed easily using the function $\\mathtt{label\\_kernel}(y_1,y_2)$ given in \n",
    "`02_PI_Theta_PI_T_formula.ipynb`."
   ]
  },
  {
   "cell_type": "markdown",
   "id": "a815a939",
   "metadata": {},
   "source": [
    "We also need a way to recover the original SVM.\n",
    "\n",
    "# Recovering the original SVM\n",
    "\n",
    "The formula is:\n",
    "$$\n",
    "\\mathbf{W} = - \\sum_{i \\in [n]} x_i \\alpha_i^\\top\n",
    "$$\n",
    "where the $\\alpha_i$'s are the ordinary dual variables in $\\mathbb{R}^k$.\n",
    "The conversion formula is\n",
    "$$\n",
    "\\alpha_i = \n",
    "-S_{y_i}^\\top R^\\top \\beta_i\n",
    "$$"
   ]
  },
  {
   "cell_type": "markdown",
   "id": "948dfc87",
   "metadata": {},
   "source": [
    "Hence, the formula in terms of the the $\\beta_i$'s is\n",
    "$$\\mathbf{W} = \\sum_{i\\in [n]} x_i \\beta_i^\\top R S_{y_i}$$\n",
    "Using the identity $R S_{y} = \\Pi_y R$ (see `03_permutation_matrice_label_code.ipynb`), we have\n",
    "$$\\mathbf{W} = \\sum_{i\\in [n]} x_i \\beta_i^\\top \\Pi_{y_i}R$$"
   ]
  },
  {
   "cell_type": "markdown",
   "id": "7e250ea1",
   "metadata": {},
   "source": [
    "From [WS2021], at the beginning of Section 3:\n",
    "\n",
    "$\n",
    "\\mathbf{R} = \\begin{bmatrix}\n",
    "-\\mathbf{I}_{k-1}\n",
    "&\n",
    "\\mathbf{1} \n",
    "\\end{bmatrix}\n",
    "$"
   ]
  },
  {
   "cell_type": "code",
   "execution_count": null,
   "id": "3d021f81",
   "metadata": {},
   "outputs": [],
   "source": []
  },
  {
   "cell_type": "code",
   "execution_count": 1,
   "id": "e3a11ff9",
   "metadata": {},
   "outputs": [
    {
     "data": {
      "text/plain": [
       "array([[2., 1., 1., 1.],\n",
       "       [1., 2., 1., 1.],\n",
       "       [1., 1., 2., 1.],\n",
       "       [1., 1., 1., 2.]])"
      ]
     },
     "execution_count": 1,
     "metadata": {},
     "output_type": "execute_result"
    }
   ],
   "source": [
    "import numpy as np\n",
    "k  = 5\n",
    "R = np.hstack((- np.eye(k-1),  np.ones((k-1,1)) ))\n",
    "R@R.T"
   ]
  },
  {
   "cell_type": "code",
   "execution_count": 2,
   "id": "6ca806b8",
   "metadata": {},
   "outputs": [],
   "source": [
    "X = np.random.randn(5,7)\n",
    "Y = np.random.randn(5,11)"
   ]
  },
  {
   "cell_type": "code",
   "execution_count": 3,
   "id": "1e68fe08",
   "metadata": {},
   "outputs": [],
   "source": [
    "my_list = [X[i,:].reshape(-1,1)@Y[i,:].reshape(1,-1) for i in range(X.shape[0])]"
   ]
  },
  {
   "cell_type": "code",
   "execution_count": 7,
   "id": "eb8a9de8",
   "metadata": {},
   "outputs": [],
   "source": [
    "Z = np.sum(my_list,axis=0)"
   ]
  },
  {
   "cell_type": "code",
   "execution_count": 9,
   "id": "e7ab8139",
   "metadata": {},
   "outputs": [
    {
     "data": {
      "text/plain": [
       "1.725595632533041e-15"
      ]
     },
     "execution_count": 9,
     "metadata": {},
     "output_type": "execute_result"
    }
   ],
   "source": [
    "np.linalg.norm(Z - X.T@Y)"
   ]
  }
 ],
 "metadata": {
  "kernelspec": {
   "display_name": "Python 3 (ipykernel)",
   "language": "python",
   "name": "python3"
  },
  "language_info": {
   "codemirror_mode": {
    "name": "ipython",
    "version": 3
   },
   "file_extension": ".py",
   "mimetype": "text/x-python",
   "name": "python",
   "nbconvert_exporter": "python",
   "pygments_lexer": "ipython3",
   "version": "3.10.9"
  }
 },
 "nbformat": 4,
 "nbformat_minor": 5
}
