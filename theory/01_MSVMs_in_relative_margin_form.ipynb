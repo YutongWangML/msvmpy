{
 "cells": [
  {
   "cell_type": "markdown",
   "id": "9867344d",
   "metadata": {},
   "source": [
    "Let $K_{ij} : = \\langle x_i, x_j\\rangle$\n",
    "$$\n",
    "\\min_{\\beta_1,\\dots, \\beta_n \\in \\mathbb{R}^{k-1}}  \n",
    "\\quad  \n",
    "\\frac{1}{2} \n",
    "\\sum_{i,j \\in [n]}K_{ij} \\beta_i^\\top \n",
    "\\Pi_{y_i} \\Theta \\Pi_{y_j}^\\top \n",
    "\\beta_j\n",
    "-\n",
    "\\sum_{\\ell \\in [n]} \\mathbf{1}^\\top \\beta_\\ell\n",
    "$$"
   ]
  },
  {
   "cell_type": "markdown",
   "id": "f02b91ef",
   "metadata": {},
   "source": [
    "For Crammer-Singer SVM:\n",
    "$$\n",
    "0 \\le \\sum_{j \\in [k-1]}\\beta_{ij} \\le C, \\quad \\forall i \\in [n]\n",
    "$$\n",
    "\n",
    "For Weston-Watkins SVM:\n",
    "$$\n",
    "0 \\le \\max_{j \\in [k-1]}\\beta_{ij} \\le C, \\quad \\forall i \\in [n]\n",
    "$$\n",
    "\n",
    "---"
   ]
  },
  {
   "cell_type": "markdown",
   "id": "5ff20cf9",
   "metadata": {},
   "source": [
    "We call  $ \\Pi_{y_i} \\Theta \\Pi_{y_j}^\\top $ the \"label kernel\".\n",
    "\n",
    "# Computing the \"label kernel\"\n",
    "We note that $M_{y_i,y_j} := \\Pi_{y_i} \\Theta \\Pi_{y_j}^\\top$ is a $(k-1)\\times(k-1)$ matrix that depends only on $k$, $y_i$ and $y_j$. \n",
    "The matrix $M_{y_i,y_j}$ can be computed easily using the function $\\mathtt{label\\_kernel}(y_1,y_2)$ given in \n",
    "`02_PI_Theta_PI_T_formula.ipynb`."
   ]
  },
  {
   "cell_type": "markdown",
   "id": "a815a939",
   "metadata": {},
   "source": [
    "We also need a way to recover the original SVM.\n",
    "\n",
    "# Recovering the original SVM\n",
    "\n",
    "The formula is:\n",
    "$$\n",
    "\\mathbf{W} = - \\sum_{i \\in [n]} x_i \\alpha_i^\\top\n",
    "$$\n",
    "where the $\\alpha_i$'s are the ordinary dual variables in $\\mathbb{R}^k$.\n",
    "The conversion formula is\n",
    "$$\n",
    "\\alpha_i = \n",
    "-S_{y_i}^\\top R^\\top \\beta_i\n",
    "$$"
   ]
  },
  {
   "cell_type": "markdown",
   "id": "948dfc87",
   "metadata": {},
   "source": [
    "Hence, the formula in terms of the the $\\beta_i$'s is\n",
    "$$\\mathbf{W} = \\sum_{i\\in [n]} x_i \\beta_i^\\top R S_{y_i}$$\n",
    "Using the identity $R S_{y} = \\Pi_y R$ (see `03_permutation_matrice_label_code.ipynb`), we have\n",
    "$$\\mathbf{W} = \\sum_{i\\in [n]} x_i \\beta_i^\\top \\Pi_{y_i}R$$"
   ]
  },
  {
   "cell_type": "markdown",
   "id": "7e250ea1",
   "metadata": {},
   "source": [
    "From [WS2021], at the beginning of Section 3:\n",
    "\n",
    "$\n",
    "\\mathbf{R} = \\begin{bmatrix}\n",
    "-\\mathbf{I}_{k-1}\n",
    "&\n",
    "\\mathbf{1} \n",
    "\\end{bmatrix}\n",
    "$"
   ]
  },
  {
   "cell_type": "code",
   "execution_count": null,
   "id": "3d021f81",
   "metadata": {},
   "outputs": [],
   "source": []
  },
  {
   "cell_type": "code",
   "execution_count": 3,
   "id": "e3a11ff9",
   "metadata": {},
   "outputs": [
    {
     "data": {
      "text/plain": [
       "array([[2., 1., 1., 1.],\n",
       "       [1., 2., 1., 1.],\n",
       "       [1., 1., 2., 1.],\n",
       "       [1., 1., 1., 2.]])"
      ]
     },
     "execution_count": 3,
     "metadata": {},
     "output_type": "execute_result"
    }
   ],
   "source": [
    "import numpy as np\n",
    "k  = 5\n",
    "R = np.hstack((- np.eye(k-1),  np.ones((k-1,1)) ))\n",
    "R@R.T"
   ]
  },
  {
   "cell_type": "code",
   "execution_count": null,
   "id": "e7e50fb5",
   "metadata": {},
   "outputs": [],
   "source": [
    "def per_mat(y):\n",
    "    SG = np.eye(k)\n",
    "    sig = list(range(k))\n",
    "    sig[y] = k-1\n",
    "    sig[k-1] = y\n",
    "    return SG[sig,:]\n",
    "#     return SG[:, sig]"
   ]
  },
  {
   "cell_type": "code",
   "execution_count": 2,
   "id": "cc181cfe",
   "metadata": {},
   "outputs": [
    {
     "ename": "NameError",
     "evalue": "name 'R' is not defined",
     "output_type": "error",
     "traceback": [
      "\u001b[0;31m---------------------------------------------------------------------------\u001b[0m",
      "\u001b[0;31mNameError\u001b[0m                                 Traceback (most recent call last)",
      "Cell \u001b[0;32mIn[2], line 3\u001b[0m\n\u001b[1;32m      1\u001b[0m y1 \u001b[38;5;241m=\u001b[39m \u001b[38;5;241m1\u001b[39m\n\u001b[1;32m      2\u001b[0m y2 \u001b[38;5;241m=\u001b[39m \u001b[38;5;241m2\u001b[39m\n\u001b[0;32m----> 3\u001b[0m \u001b[43mR\u001b[49m\u001b[38;5;129m@per_mat\u001b[39m(y1)\u001b[38;5;129m@per_mat\u001b[39m(y2)\u001b[38;5;129m@R\u001b[39m\u001b[38;5;241m.\u001b[39mT\n",
      "\u001b[0;31mNameError\u001b[0m: name 'R' is not defined"
     ]
    }
   ],
   "source": [
    "y1 = 1\n",
    "y2 = 2\n",
    "R@per_mat(y1)@per_mat(y2)@R.T"
   ]
  },
  {
   "cell_type": "code",
   "execution_count": 3,
   "id": "08e52a1f",
   "metadata": {},
   "outputs": [
    {
     "ename": "NameError",
     "evalue": "name 'PI' is not defined",
     "output_type": "error",
     "traceback": [
      "\u001b[0;31m---------------------------------------------------------------------------\u001b[0m",
      "\u001b[0;31mNameError\u001b[0m                                 Traceback (most recent call last)",
      "Cell \u001b[0;32mIn[3], line 1\u001b[0m\n\u001b[0;32m----> 1\u001b[0m \u001b[43mPI\u001b[49m[y1]\u001b[38;5;241m@\u001b[39m(np\u001b[38;5;241m.\u001b[39meye(k\u001b[38;5;241m-\u001b[39m\u001b[38;5;241m1\u001b[39m)\u001b[38;5;241m+\u001b[39mnp\u001b[38;5;241m.\u001b[39mones((k\u001b[38;5;241m-\u001b[39m\u001b[38;5;241m1\u001b[39m,k\u001b[38;5;241m-\u001b[39m\u001b[38;5;241m1\u001b[39m)))\u001b[38;5;129m@PI\u001b[39m[y2]\u001b[38;5;241m.\u001b[39mT\n",
      "\u001b[0;31mNameError\u001b[0m: name 'PI' is not defined"
     ]
    }
   ],
   "source": [
    "PI[y1]@(np.eye(k-1)+np.ones((k-1,k-1)))@PI[y2].T"
   ]
  },
  {
   "cell_type": "code",
   "execution_count": 4,
   "id": "344a202e",
   "metadata": {},
   "outputs": [
    {
     "ename": "NameError",
     "evalue": "name 'np' is not defined",
     "output_type": "error",
     "traceback": [
      "\u001b[0;31m---------------------------------------------------------------------------\u001b[0m",
      "\u001b[0;31mNameError\u001b[0m                                 Traceback (most recent call last)",
      "Cell \u001b[0;32mIn[4], line 1\u001b[0m\n\u001b[0;32m----> 1\u001b[0m SG \u001b[38;5;241m=\u001b[39m \u001b[43mnp\u001b[49m\u001b[38;5;241m.\u001b[39meye(k)\n\u001b[1;32m      3\u001b[0m y1 \u001b[38;5;241m=\u001b[39m \u001b[38;5;241m2\u001b[39m\n\u001b[1;32m      4\u001b[0m y2 \u001b[38;5;241m=\u001b[39m \u001b[38;5;241m4\u001b[39m\n",
      "\u001b[0;31mNameError\u001b[0m: name 'np' is not defined"
     ]
    }
   ],
   "source": [
    "SG = np.eye(k)\n",
    "\n",
    "y1 = 2\n",
    "y2 = 4\n",
    "\n"
   ]
  },
  {
   "cell_type": "code",
   "execution_count": 47,
   "id": "3b334a2d",
   "metadata": {},
   "outputs": [
    {
     "data": {
      "text/plain": [
       "[array([[-1.,  0.,  0.,  0.],\n",
       "        [-1.,  1.,  0.,  0.],\n",
       "        [-1.,  0.,  1.,  0.],\n",
       "        [-1.,  0.,  0.,  1.]]),\n",
       " array([[ 1., -1.,  0.,  0.],\n",
       "        [ 0., -1.,  0.,  0.],\n",
       "        [ 0., -1.,  1.,  0.],\n",
       "        [ 0., -1.,  0.,  1.]]),\n",
       " array([[ 1.,  0., -1.,  0.],\n",
       "        [ 0.,  1., -1.,  0.],\n",
       "        [ 0.,  0., -1.,  0.],\n",
       "        [ 0.,  0., -1.,  1.]]),\n",
       " array([[ 1.,  0.,  0., -1.],\n",
       "        [ 0.,  1.,  0., -1.],\n",
       "        [ 0.,  0.,  1., -1.],\n",
       "        [ 0.,  0.,  0., -1.]]),\n",
       " array([[1., 0., 0., 0.],\n",
       "        [0., 1., 0., 0.],\n",
       "        [0., 0., 1., 0.],\n",
       "        [0., 0., 0., 1.]])]"
      ]
     },
     "execution_count": 47,
     "metadata": {},
     "output_type": "execute_result"
    }
   ],
   "source": [
    "import numpy as np\n",
    "k = 5\n",
    "PI = []\n",
    "for y in range(k-1):\n",
    "    PIy = np.eye(k-1)\n",
    "    PIy[:,y] = -1\n",
    "    PI.append(PIy)\n",
    "PI.append(np.eye(k-1))\n",
    "PI"
   ]
  },
  {
   "cell_type": "code",
   "execution_count": 8,
   "id": "a725233e",
   "metadata": {},
   "outputs": [
    {
     "data": {
      "text/plain": [
       "array([[-1.,  0.,  0.,  0.],\n",
       "       [-1.,  1.,  0.,  0.],\n",
       "       [-1.,  0.,  1.,  0.],\n",
       "       [-2., -1., -1., -1.]])"
      ]
     },
     "execution_count": 8,
     "metadata": {},
     "output_type": "execute_result"
    }
   ],
   "source": [
    "PI[0]@PI[3].T"
   ]
  }
 ],
 "metadata": {
  "kernelspec": {
   "display_name": "Python 3 (ipykernel)",
   "language": "python",
   "name": "python3"
  },
  "language_info": {
   "codemirror_mode": {
    "name": "ipython",
    "version": 3
   },
   "file_extension": ".py",
   "mimetype": "text/x-python",
   "name": "python",
   "nbconvert_exporter": "python",
   "pygments_lexer": "ipython3",
   "version": "3.10.9"
  }
 },
 "nbformat": 4,
 "nbformat_minor": 5
}
